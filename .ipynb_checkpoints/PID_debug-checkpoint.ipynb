{
 "cells": [
  {
   "cell_type": "code",
   "execution_count": 1,
   "id": "06e166da-e7b2-4a48-8c06-623387d80b1b",
   "metadata": {},
   "outputs": [
    {
     "ename": "LoadError",
     "evalue": "ArgumentError: Package Plots not found in current path:\n- Run `import Pkg; Pkg.add(\"Plots\")` to install the Plots package.\n",
     "output_type": "error",
     "traceback": [
      "ArgumentError: Package Plots not found in current path:\n- Run `import Pkg; Pkg.add(\"Plots\")` to install the Plots package.\n",
      "",
      "Stacktrace:",
      " [1] require(into::Module, mod::Symbol)",
      "   @ Base ./loading.jl:893"
     ]
    }
   ],
   "source": [
    "import Pkg\n",
    "Pkg.instantiate()\n",
    "using LinearAlgebra, Plots\n",
    "import ForwardDiff as FD\n",
    "using JLD2\n",
    "using Test\n",
    "using Random"
   ]
  },
  {
   "cell_type": "code",
   "execution_count": 2,
   "id": "2ede3d40-d87b-4262-a0de-e1b418705a10",
   "metadata": {},
   "outputs": [
    {
     "ename": "LoadError",
     "evalue": "MethodError: no method matching (Matrix{T} where T)(::Vector{Float64})\n\u001b[0mClosest candidates are:\n\u001b[0m  (Array{T, N} where T)(::AbstractArray{S, N}) where {S, N} at boot.jl:470\n\u001b[0m  (Matrix{T} where T)(\u001b[91m::Union{QR, LinearAlgebra.QRCompactWY}\u001b[39m) at C:\\buildbot\\worker\\package_win64\\build\\usr\\share\\julia\\stdlib\\v1.6\\LinearAlgebra\\src\\qr.jl:434\n\u001b[0m  (Matrix{T} where T)(\u001b[91m::SuiteSparse.CHOLMOD.Dense{T}\u001b[39m) where T at C:\\buildbot\\worker\\package_win64\\build\\usr\\share\\julia\\stdlib\\v1.6\\SuiteSparse\\src\\cholmod.jl:990\n\u001b[0m  ...",
     "output_type": "error",
     "traceback": [
      "MethodError: no method matching (Matrix{T} where T)(::Vector{Float64})\n\u001b[0mClosest candidates are:\n\u001b[0m  (Array{T, N} where T)(::AbstractArray{S, N}) where {S, N} at boot.jl:470\n\u001b[0m  (Matrix{T} where T)(\u001b[91m::Union{QR, LinearAlgebra.QRCompactWY}\u001b[39m) at C:\\buildbot\\worker\\package_win64\\build\\usr\\share\\julia\\stdlib\\v1.6\\LinearAlgebra\\src\\qr.jl:434\n\u001b[0m  (Matrix{T} where T)(\u001b[91m::SuiteSparse.CHOLMOD.Dense{T}\u001b[39m) where T at C:\\buildbot\\worker\\package_win64\\build\\usr\\share\\julia\\stdlib\\v1.6\\SuiteSparse\\src\\cholmod.jl:990\n\u001b[0m  ...",
      "",
      "Stacktrace:",
      " [1] convert(#unused#::Type{Matrix{T} where T}, a::Vector{Float64})",
      "   @ Base .\\array.jl:532",
      " [2] Params(A::Matrix{Float64}, B::Vector{Float64}, K::Float64, Ki::Float64, Kd::Float64, prev_error::Vector{Float64}, target_position::Vector{Float64})",
      "   @ Main .\\In[2]:4",
      " [3] top-level scope",
      "   @ In[2]:65"
     ]
    }
   ],
   "source": [
    "\n",
    "# Define parameters\n",
    "mutable struct Params\n",
    "    A::Matrix\n",
    "    B::Matrix\n",
    "    K::Float64\n",
    "    Ki::Float64\n",
    "    Kd::Float64\n",
    "    prev_error::Vector\n",
    "    target_position::Vector\n",
    "end\n",
    "\n",
    "# Koopman dynamics function, the equation, may need to add more \n",
    "function koopman_dynamics(params::Params, z::Vector, u)\n",
    "    z_k_1 = params.A * z + params.B * u\n",
    "    return z_k_1\n",
    "end\n",
    "\n",
    "# Mapping function from state x to lifted vector z (psi function) \n",
    "function map_x_to_z(params::Params, x::Vector)\n",
    "    return x # In this example, let's assume identity mapping\n",
    "end\n",
    "\n",
    "# Mapping function from lifted vector z to state x (zeta function)\n",
    "function map_z_to_x(params::Params, z::Vector)\n",
    "    return z # In this example, let's assume identity mapping\n",
    "end\n",
    "\n",
    "# PID control function\n",
    "function PID(params::Params, z::Vector, x_t::Vector)\n",
    "    x = map_z_to_x(params, z)\n",
    "    e = params.target_position - x\n",
    "    u_k = params.K * e + params.Ki * sum(e) + params.Kd * (e - params.prev_error)\n",
    "    params.prev_error = e\n",
    "    return u_k\n",
    "end\n",
    "\n",
    "# Simulation function\n",
    "function simulation(params::Params, N::Int)\n",
    "    x_sim = zeros(length(params.target_position), N)\n",
    "    z_sim = zeros(length(params.target_position), N)\n",
    "    u_sim = zeros(N-1)\n",
    "\n",
    "    # Initial state\n",
    "    x_sim[:, 1] .= params.target_position\n",
    "    z_sim[:, 1] = map_x_to_z(params, x_sim[:, 1])\n",
    "\n",
    "    for k in 1:N-1\n",
    "        u_sim[k] = PID(params, z_sim[:, k], params.target_position)\n",
    "\n",
    "        z_sim[:, k+1] = koopman_dynamics(params, z_sim[:, k], u_sim[k])\n",
    "        x_sim[:, k+1] = map_z_to_x(params, z_sim[:, k+1])\n",
    "    end\n",
    "\n",
    "    return x_sim, u_sim\n",
    "end\n",
    "\n",
    "# Define parameters, I am not sure what to put here tbh (?) \n",
    "A = [0.9 0.1; 0.2 0.8]  #  A matrix\n",
    "B = [0.1; 0.2]          #  B matrix\n",
    "K = 1.0                 # Proportional gain, P\n",
    "Ki = 0.1                # Integral gain, I\n",
    "Kd = 0.01               # Derivative gain, D\n",
    "target_position = [0.5, 0.3]  \n",
    "params = Params(A, B, K, Ki, Kd, zeros(2), target_position)\n",
    "\n",
    "# Run simulation\n",
    "N = 50\n",
    "x_sim, u_sim = simulation(params, N)\n",
    "\n",
    "# Plotting\n",
    "plot(x_sim[1, :], x_sim[2, :], label=\"Soft Grasper Trajectory\", xlabel=\"X\", ylabel=\"Y\", legend=:topleft)\n",
    "scatter!([params.target_position[1]], [params.target_position[2]], label=\"Target Position\", markersize=10)\n"
   ]
  },
  {
   "cell_type": "code",
   "execution_count": null,
   "id": "641d0775-aa15-4fe1-b14b-6373fd70062e",
   "metadata": {},
   "outputs": [],
   "source": []
  }
 ],
 "metadata": {
  "kernelspec": {
   "display_name": "Julia 1.6.7",
   "language": "julia",
   "name": "julia-1.6"
  },
  "language_info": {
   "file_extension": ".jl",
   "mimetype": "application/julia",
   "name": "julia",
   "version": "1.6.7"
  }
 },
 "nbformat": 4,
 "nbformat_minor": 5
}
