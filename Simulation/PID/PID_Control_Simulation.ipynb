{
 "cells": [
  {
   "cell_type": "code",
   "execution_count": null,
   "id": "f231c43a",
   "metadata": {},
   "outputs": [],
   "source": [
    "import Pkg\n",
    "Pkg.activate(@__DIR__)\n",
    "Pkg.instantiate()\n",
    "using LinearAlgebra, Plots\n",
    "import ForwardDiff as FD\n",
    "import MeshCat as mc \n",
    "using JLD2\n",
    "using Test\n",
    "using Random"
   ]
  },
  {
   "cell_type": "code",
   "execution_count": 1,
   "id": "f81011cf",
   "metadata": {},
   "outputs": [
    {
     "data": {
      "text/plain": [
       "simulation (generic function with 1 method)"
      ]
     },
     "execution_count": 1,
     "metadata": {},
     "output_type": "execute_result"
    }
   ],
   "source": [
    "# state x, controls u, x_k+1 = F(x,u) where F is a nonlinear function\n",
    "# z = psi(x) where psi is a summation of nonlinear functions [Experiments to get the psi function]\n",
    "# z_k+1 = A*z_k + B*u_k <- Koopman Operation [Experiments to get A and B matrices]\n",
    "# Add a dynamics function: take in A and B matrices, and a lifted vector:z_k, output the next state: z_k+1\n",
    "# convert the lifted state: z back to our original state x: x = zeta(z) [Experiments to get the zeta function]\n",
    "# Integrate into the controllers -> trajectory we would like track -> x_t\n",
    "# PID -> u_k = K*(x_k-x_t_k) + K_i*integral(x_k-x_t_k) + K_d*derivative(x_k-x_t_k)\n",
    "# Try this control policy to track the trajectory and then plot to compare against the desired trajectory\n",
    "\n",
    "\n",
    "function koopman_dynamics(params::NamedTuple, z::Vector, u)\n",
    "    # Koopman dynamics\n",
    "    \n",
    "    #z_k_1 = params.A*z + params.B*u #TODO: will modify\n",
    "\n",
    "    return z_k_1\n",
    "\n",
    "end\n",
    "\n",
    "function map_x_to_z(params::NamedTuple,x::Vector)\n",
    "   # convert our state vector x to the lifted vector z, i.e. the psi function above \n",
    "    z = x #TODO: will change\n",
    "    return z\n",
    "end\n",
    "\n",
    "function map_z_to_x(params::NamedTuple,z::Vector)\n",
    "    # converts our lifted vector z to the state vector x, i.e. the zeta function above\n",
    "    x = z #TODO: will change\n",
    "    return x\n",
    "end\n",
    "\n",
    "\n",
    "function PID(params::NamedTuple,z::Vector,u::Vector)\n",
    "   \n",
    "    #TODO: x =map_z_to_x(params,z)\n",
    "    #TODO: u_k = params.K*(x_k-x_t_k)...\n",
    "    \n",
    "    return(u_k)\n",
    "    \n",
    "end\n",
    "\n",
    "\n",
    "function simulation()\n",
    "   \n",
    "    #TODO: Define params: i.e. define A and B matrices, define PID gains etc.\n",
    "    \n",
    "    #TODO: Define the trajectory x_t of size N. Sine wave with time varying frequency is one option\n",
    "    \n",
    "    #TODO: Forward simulate with our control policy starting from an initial state x_t[0]\n",
    "    # for k=1:N;\n",
    "#         z_k = map_x_to_z(params,x[k])\n",
    "#         u_k = PID(params,z_k)\n",
    "#         z_k_1 = koopman_dynamics(params,z_k,u_k)\n",
    "#         x_k_1 = map_z_to_x(params,z_k_1)\n",
    "    \n",
    "#     end\n",
    "    \n",
    "    #TODO: Plotting the x_k (i.e. the simulated x's) and compare to the desired trajectory x_t\n",
    "    \n",
    "end\n",
    "\n",
    "\n",
    "\n",
    "\n",
    "\n"
   ]
  },
  {
   "cell_type": "code",
   "execution_count": null,
   "id": "a66f95fa",
   "metadata": {},
   "outputs": [],
   "source": []
  }
 ],
 "metadata": {
  "kernelspec": {
   "display_name": "Julia 1.6.7",
   "language": "julia",
   "name": "julia-1.6"
  },
  "language_info": {
   "file_extension": ".jl",
   "mimetype": "application/julia",
   "name": "julia",
   "version": "1.6.7"
  }
 },
 "nbformat": 4,
 "nbformat_minor": 5
}
