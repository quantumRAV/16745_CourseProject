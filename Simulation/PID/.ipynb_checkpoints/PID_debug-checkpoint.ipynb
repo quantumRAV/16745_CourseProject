{
 "cells": [
  {
   "cell_type": "code",
   "execution_count": 1,
   "id": "06e166da-e7b2-4a48-8c06-623387d80b1b",
   "metadata": {},
   "outputs": [
    {
     "ename": "LoadError",
     "evalue": "ArgumentError: Package Plots not found in current path:\n- Run `import Pkg; Pkg.add(\"Plots\")` to install the Plots package.\n",
     "output_type": "error",
     "traceback": [
      "ArgumentError: Package Plots not found in current path:\n- Run `import Pkg; Pkg.add(\"Plots\")` to install the Plots package.\n",
      "",
      "Stacktrace:",
      " [1] require(into::Module, mod::Symbol)",
      "   @ Base ./loading.jl:893"
     ]
    }
   ],
   "source": [
    "import Pkg\n",
    "Pkg.instantiate()\n",
    "using LinearAlgebra, Plots\n",
    "import ForwardDiff as FD\n",
    "using JLD2\n",
    "using Test\n",
    "using Random\n"
   ]
  },
  {
   "cell_type": "code",
   "execution_count": 2,
   "id": "2ede3d40-d87b-4262-a0de-e1b418705a10",
   "metadata": {},
   "outputs": [
    {
     "ename": "LoadError",
     "evalue": "DimensionMismatch(\"dimensions must match: a has dims (Base.OneTo(3),), b has dims (Base.OneTo(2),), mismatch at 1\")",
     "output_type": "error",
     "traceback": [
      "DimensionMismatch(\"dimensions must match: a has dims (Base.OneTo(3),), b has dims (Base.OneTo(2),), mismatch at 1\")",
      "",
      "Stacktrace:",
      " [1] promote_shape",
      "   @ ./indices.jl:178 [inlined]",
      " [2] promote_shape",
      "   @ ./indices.jl:169 [inlined]",
      " [3] -(A::Vector{Int64}, B::Vector{Float64})",
      "   @ Base ./arraymath.jl:38",
      " [4] PID(params::Params, z::Vector{Float64}, x_t::Vector{Int64})",
      "   @ Main ./In[2]:33",
      " [5] simulation(params::Params, N::Int64)",
      "   @ Main ./In[2]:49",
      " [6] top-level scope",
      "   @ In[2]:71"
     ]
    }
   ],
   "source": [
    "\n",
    "# Define parameters\n",
    "mutable struct Params\n",
    "    A::Matrix\n",
    "    B::Matrix\n",
    "    K::Float64\n",
    "    Ki::Float64\n",
    "    Kd::Float64\n",
    "    prev_error::Vector\n",
    "    target_position::Vector\n",
    "end\n",
    "\n",
    "# Koopman dynamics function, the equation, may need to add more \n",
    "function koopman_dynamics(params::Params, z::Vector, u::Vector) #is u a vector?\n",
    "    z_k_1 = params.A * z + params.B * u\n",
    "    return z_k_1\n",
    "end\n",
    "\n",
    "# Mapping function from state x to lifted vector z (psi function) \n",
    "function map_x_to_z(params::Params, x::Vector)\n",
    "    return x # In this example, let's assume identity mapping\n",
    "end\n",
    "\n",
    "# Mapping function from lifted vector z to state x (zeta function)\n",
    "function map_z_to_x(params::Params, z::Vector)\n",
    "    return z # In this example, let's assume identity mapping\n",
    "end\n",
    "\n",
    "# PID control function , make this time, x_t is not being used here??? \n",
    "function PID(params::Params, z::Vector, x_t::Vector)\n",
    "    x = map_z_to_x(params, z)\n",
    "    e = params.target_position - x_t #debugged \n",
    "    u_k = params.K * e + params.Ki * sum(e) + params.Kd * (e - params.prev_error) #note: sum(e) is that based on time or all 3 jaws' error at certain time t? \n",
    "    params.prev_error = e\n",
    "    return u_k\n",
    "end\n",
    "\n",
    "# Simulation function\n",
    "function simulation(params::Params, N::Int)\n",
    "    x_sim = zeros(length(params.target_position), N)\n",
    "    z_sim = zeros(length(params.target_position), N)\n",
    "    u_sim = zeros(N-1)\n",
    "\n",
    "    # Initial state\n",
    "    x_sim[:, 1] .= params.target_position\n",
    "    z_sim[:, 1] = map_x_to_z(params, x_sim[:, 1])\n",
    "\n",
    "    for k in 1:N-1\n",
    "        u_sim[k] = PID(params, z_sim[:, k], params.target_position[:,k])\n",
    "\n",
    "        z_sim[:, k+1] = koopman_dynamics(params, z_sim[:, k], u_sim[k])\n",
    "        x_sim[:, k+1] = map_z_to_x(params, z_sim[:, k+1])\n",
    "    end\n",
    "\n",
    "    return x_sim, u_sim\n",
    "end\n",
    "\n",
    "# Define parameters, I am not sure what to put here tbh (?) \n",
    "nc = 3 #how many control inputs, x,y,pressure \n",
    "ns = 3 #how many variable states, 3 jaws \n",
    "A = [1 0 0; 0 1 0; 0 0 1]  #  A matrix, try with identity matrix A = [ns, ns] \n",
    "B = [1 0 0; 0 1 0; 0 0 1]       #  B matrix, B = [ns, nc]\n",
    "K = 1.0                 #  Proportional gain, P\n",
    "Ki = 0.1                #  Integral gain, I\n",
    "Kd = 0.01               #  Derivative gain, D\n",
    "target_position = [1, 1, 1] #p_jaw1, p_jaw2, p_jaw3, matrix dim needs to be changed \n",
    "params = Params(A, B, K, Ki, Kd, zeros(2), target_position)\n",
    "\n",
    "# Run simulation\n",
    "N = 50\n",
    "x_sim, u_sim = simulation(params, N)\n",
    "\n",
    "# Plotting\n",
    "plot(x_sim[1, :], x_sim[2, :], label=\"Soft Grasper Trajectory\", xlabel=\"X\", ylabel=\"Y\", legend=:topleft)\n",
    "scatter!([params.target_position[1]], [params.target_position[2]], label=\"Target Position\", markersize=10)\n"
   ]
  },
  {
   "cell_type": "code",
   "execution_count": null,
   "id": "641d0775-aa15-4fe1-b14b-6373fd70062e",
   "metadata": {},
   "outputs": [],
   "source": []
  },
  {
   "cell_type": "code",
   "execution_count": null,
   "id": "cd904f98",
   "metadata": {},
   "outputs": [],
   "source": []
  }
 ],
 "metadata": {
  "kernelspec": {
   "display_name": "Julia 1.6.7",
   "language": "julia",
   "name": "julia-1.6"
  },
  "language_info": {
   "file_extension": ".jl",
   "mimetype": "application/julia",
   "name": "julia",
   "version": "1.6.7"
  }
 },
 "nbformat": 4,
 "nbformat_minor": 5
}
